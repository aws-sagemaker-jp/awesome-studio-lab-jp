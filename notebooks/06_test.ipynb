{
 "cells": [
  {
   "cell_type": "markdown",
   "id": "77e8951d-e34c-45f1-929c-0dbdb6be646b",
   "metadata": {},
   "source": [
    "## What you learn\n",
    "\n",
    "Modelが意図した通りに構築されているか、インプット、プロセス、アウトプットの観点から評価しTest Reportを作成します。Test Reportには、Business goalを達成できているかの評価を含める。\n",
    "\n",
    "## Why you need\n",
    "\n",
    "通常のソフトウェア開発と同様、機械学習モデルも品質を担保するためにテストを行う必要があります。また、ステークホルダーに対しBusiness goalがどの程度達成できているかの評価レポートを作成する必要があります。\n",
    "\n",
    "## How to do\n",
    "\n",
    "機械学習モデルの品質は、3つの観点からテストが必要です。インプットとプロセスは通常のプログラムであるため、Unit Testが可能です。Technical Exerciseでは3にフォーカスします。\n",
    "\n",
    "1. インプット\n",
    "   * 入力データの質と量\n",
    "2. プロセス\n",
    "   * データの学習・加工プロセス\n",
    "3. アウトプット\n",
    "   * モデルの性能\n",
    "   * モデルの頑健性\n",
    "   * 機械学習システム全体の評価 (ビジネス上の評価)\n",
    "\n",
    "### Technical Exercise\n",
    "\n",
    "モデルの性能評価としては、今回は回帰であるため、二乗平均平方根誤差と決定係数で評価します。\n",
    "\n",
    "テスト用のデータ、学習したモデル、前処理用のエンコーダーを読み込みます。"
   ]
  },
  {
   "cell_type": "code",
   "execution_count": 1,
   "id": "ded8659b-9724-49a7-bbc5-f4e6ce8c3222",
   "metadata": {},
   "outputs": [],
   "source": [
    "from pathlib import Path\n",
    "import pandas as pd\n",
    "\n",
    "\n",
    "test_data_path = Path(\"../data/processed/test.csv\")\n",
    "test_df = pd.read_csv(test_data_path)"
   ]
  },
  {
   "cell_type": "code",
   "execution_count": 2,
   "id": "7231fbaa-26e7-4d94-9e46-348727720fd9",
   "metadata": {},
   "outputs": [],
   "source": [
    "from pathlib import Path\n",
    "from joblib import load\n",
    "\n",
    "\n",
    "model = load(Path(\"../model/model.joblib\")) \n",
    "encoder = load(Path(\"../model/encoder.joblib\"))"
   ]
  },
  {
   "cell_type": "markdown",
   "id": "0d462cc2-e874-4cf4-8b53-c83b84985a7c",
   "metadata": {},
   "source": [
    "モデルで予測を行います。"
   ]
  },
  {
   "cell_type": "code",
   "execution_count": 3,
   "id": "8850db0b-fc24-4cfe-9edd-3d6175424c24",
   "metadata": {},
   "outputs": [],
   "source": [
    "X = test_df.drop(\"SalePrice\", axis=1)\n",
    "y = test_df[\"SalePrice\"]\n",
    "\n",
    "prediction = model.predict(X)"
   ]
  },
  {
   "cell_type": "markdown",
   "id": "49fc42d3-b2af-4829-bc21-d8885c4fe241",
   "metadata": {},
   "source": [
    "入力のX、出力のyをそれぞれ前処理前の形式に戻す処理を定義します。内部的には、前処理に使用した`StandardScaler`や`OrdinalEncoder`で変換の逆を行う`inverse_transform`を呼び出しています。"
   ]
  },
  {
   "cell_type": "code",
   "execution_count": 4,
   "id": "98fe2f52-c612-40da-9f01-84cdba0fd122",
   "metadata": {},
   "outputs": [],
   "source": [
    "def inverse_Xy(X, y):\n",
    "    numerical_columns = encoder.named_transformers_[\"standardscaler-1\"].feature_names_in_\n",
    "    categorical_columns = encoder.named_transformers_[\"ordinalencoder\"].feature_names_in_\n",
    "\n",
    "    inversed_numerical = encoder.named_transformers_[\"standardscaler-1\"].inverse_transform(X[numerical_columns])\n",
    "    inversed_categorical = encoder.named_transformers_[\"ordinalencoder\"].inverse_transform(X[categorical_columns])\n",
    "    inversed_y = encoder.named_transformers_[\"standardscaler-2\"].inverse_transform(y.values.reshape((-1, 1)))\n",
    "\n",
    "    inversed_numerical_df = pd.DataFrame(inversed_numerical, columns=numerical_columns)\n",
    "    inversed_categorical_df = pd.DataFrame(inversed_categorical, columns=categorical_columns)\n",
    "    inversed_df = pd.concat([inversed_numerical_df, inversed_categorical_df, \n",
    "                             pd.Series(inversed_y.flatten(), name=y.name)], axis=1)\n",
    "    \n",
    "    return inversed_df"
   ]
  },
  {
   "cell_type": "code",
   "execution_count": 5,
   "id": "bd6db0eb-fa33-4c12-beb9-03b26ce51b2c",
   "metadata": {},
   "outputs": [],
   "source": [
    "original_df = inverse_Xy(X, y)\n",
    "prediction_df = inverse_Xy(X, pd.Series(prediction.flatten(), name=\"SalePricePredicted\"))"
   ]
  },
  {
   "cell_type": "code",
   "execution_count": 6,
   "id": "2c83f1a5-1ab7-45dc-bf6e-473f08264c49",
   "metadata": {},
   "outputs": [
    {
     "name": "stdout",
     "output_type": "stream",
     "text": [
      "Mean squared error 31658.313256313446, R2 0.823463417636467\n"
     ]
    }
   ],
   "source": [
    "from sklearn.metrics import mean_squared_error, r2_score\n",
    "\n",
    "\n",
    "rmse = mean_squared_error(original_df[\"SalePrice\"], prediction_df[\"SalePricePredicted\"], squared=False)\n",
    "r2 = r2_score(original_df[\"SalePrice\"], prediction_df[\"SalePricePredicted\"])\n",
    "\n",
    "print(f\"Mean squared error {rmse}, R2 {r2}\")"
   ]
  },
  {
   "cell_type": "markdown",
   "id": "707273ee-9710-48c5-b4de-b99fb31914f6",
   "metadata": {},
   "source": [
    "住宅の価格が100,000ドル~と考えると、二乗平均平方根誤差は満足できそうな値です。1に近いほど良い決定係数も同様です。実際と予測とで、価格の分布が近しいこともわかります。"
   ]
  },
  {
   "cell_type": "code",
   "execution_count": 7,
   "id": "dfebcfa9-72e8-488f-af53-bd7c94447a4d",
   "metadata": {},
   "outputs": [
    {
     "data": {
      "text/plain": [
       "<AxesSubplot:ylabel='Frequency'>"
      ]
     },
     "execution_count": 7,
     "metadata": {},
     "output_type": "execute_result"
    },
    {
     "data": {
      "image/png": "[encoded data removed]",
      "text/plain": [
       "<Figure size 432x288 with 1 Axes>"
      ]
     },
     "metadata": {
      "needs_background": "light"
     },
     "output_type": "display_data"
    }
   ],
   "source": [
    "pd.concat([original_df[\"SalePrice\"], prediction_df[\"SalePricePredicted\"]], axis=1).plot.hist(bins=12, alpha=0.5)"
   ]
  },
  {
   "cell_type": "markdown",
   "id": "2cca8cfc-950c-4149-b88a-42bdf9295146",
   "metadata": {},
   "source": [
    "入力の変化に応じた出力の変化が起きているかでモデルの頑健性を評価する手法をメタモルフィックテストと呼びます。モデルの出力が予測の範囲内に収まるかどうかを検証するのに有効なテストです。\n",
    "\n",
    "モデルの着目している特徴を分析し、値を2分の1、2倍に変化させてみましょう。"
   ]
  },
  {
   "cell_type": "code",
   "execution_count": 8,
   "id": "45d95838-54e7-47a5-ae8f-85da6002a805",
   "metadata": {},
   "outputs": [],
   "source": [
    "changed_df = test_df.copy()\n",
    "changed_df[\"OverallQual\"] = changed_df[\"OverallQual\"] + 2.0"
   ]
  },
  {
   "cell_type": "code",
   "execution_count": 9,
   "id": "ebd78319-8c37-44dc-9769-f8683cb0a3cd",
   "metadata": {},
   "outputs": [],
   "source": [
    "changed_X = changed_df.drop(\"SalePrice\", axis=1)\n",
    "changed_y = changed_df[\"SalePrice\"]\n",
    "\n",
    "\n",
    "changed_prediction = model.predict(changed_X)"
   ]
  },
  {
   "cell_type": "code",
   "execution_count": 10,
   "id": "e5830952-bcd8-4ece-9293-e6dd9577d963",
   "metadata": {},
   "outputs": [],
   "source": [
    "changed_prediction_df = inverse_Xy(changed_X, pd.Series(changed_prediction.flatten(), name=\"SalePriceChanged\"))"
   ]
  },
  {
   "cell_type": "code",
   "execution_count": 11,
   "id": "a79dce52-7751-4c0c-ba83-03b17f6b65e3",
   "metadata": {},
   "outputs": [
    {
     "data": {
      "text/plain": [
       "<AxesSubplot:ylabel='Frequency'>"
      ]
     },
     "execution_count": 11,
     "metadata": {},
     "output_type": "execute_result"
    },
    {
     "data": {
      "image/png": "[encoded data removed]",
      "text/plain": [
       "<Figure size 432x288 with 1 Axes>"
      ]
     },
     "metadata": {
      "needs_background": "light"
     },
     "output_type": "display_data"
    }
   ],
   "source": [
    "pd.concat([prediction_df[\"SalePricePredicted\"], changed_prediction_df[\"SalePriceChanged\"]], axis=1).plot.hist(bins=12, alpha=0.5)"
   ]
  },
  {
   "cell_type": "markdown",
   "id": "e833780b-37c8-4369-b406-34f7ec758356",
   "metadata": {},
   "source": [
    "価格の分布が大きくずれていることがわかります。\n",
    "\n",
    "モデルの性能と頑健性が、Business goalのうち機械学習モデルの担当分であるModel Usage Impactの達成に十分であるかはDomain Expertの協力を得ながら検証する必要があります。"
   ]
  },
  {
   "cell_type": "markdown",
   "id": "48857473-18f4-48ae-9888-9c7ec460dd0f",
   "metadata": {},
   "source": [
    "### Communication Exercise\n",
    "\n",
    "Data Scientistとして機械学習モデルのテストを行うにあたり、誰にどのような質問をする必要がありますか?\n",
    "\n",
    "* Product Manager\n",
    "* Business Analyst\n",
    "* Data Analyst\n",
    "* Architect \n",
    "* DevOps Engineer\n",
    "* Software Engineer\n",
    "* Operator\n",
    "* System Admin\n",
    "* IT Auditor\n",
    "* Data architect\n",
    "* Domain Expert\n",
    "\n",
    "#### Example\n",
    "\n",
    "* Domain Expert\n",
    "   * 業務上頻繁なケースについて、機械学習モデルの予測はどれぐらい利用できますか?(100%、80%、50%、20%など)\n",
    "   * 予測を確認するための工数は値付けをする工数に比べてどの程度下がりますか。\n",
    "* Product Manager\n",
    "   * 機械学習モデルをリリースしていくために、追加で検証すべきシナリオや合意しておくべきステークホルダーはいますか。\n",
    "\n",
    "## Next Step\n",
    "\n",
    "[おわりに](../docs/ending.md)\n",
    "\n",
    "## References\n",
    "\n",
    "1. 佐藤直人, 小川秀人, 來間啓伸 and 明神智之. [AIソフトウェアのテスト](https://www.amazon.co.jp/dp/B095W5VGB3/ref=dp-kindle-redirect?_encoding=UTF8&btkr=1). 2021.\n",
    "\n",
    "関連するAWSのサービス\n",
    "\n",
    "1. Model Monitor\n",
    "2. SageMaker Model Registry\n"
   ]
  },
  {
   "cell_type": "code",
   "execution_count": null,
   "id": "e722dced-2a4d-443a-895d-462bf3db883a",
   "metadata": {},
   "outputs": [],
   "source": []
  }
 ],
 "metadata": {
  "kernelspec": {
   "display_name": "ml-handson:Python",
   "language": "python",
   "name": "conda-env-ml-handson-py"
  },
  "language_info": {
   "codemirror_mode": {
    "name": "ipython",
    "version": 3
   },
   "file_extension": ".py",
   "mimetype": "text/x-python",
   "name": "python",
   "nbconvert_exporter": "python",
   "pygments_lexer": "ipython3",
   "version": "3.9.10"
  },
  "toc-autonumbering": false,
  "toc-showcode": false,
  "toc-showmarkdowntxt": false
 },
 "nbformat": 4,
 "nbformat_minor": 5
}
