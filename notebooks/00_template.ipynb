{
 "cells": [
  {
   "cell_type": "markdown",
   "id": "77e8951d-e34c-45f1-929c-0dbdb6be646b",
   "metadata": {},
   "source": [
    "# Environment Setup\n",
    "\n",
    "## What you learn\n",
    "\n",
    "xxx\n",
    "\n",
    "## Why you need\n",
    "\n",
    "xxx\n",
    "\n",
    "## How to do\n",
    "\n",
    "xxx\n",
    "\n",
    "### Technical Exercise\n",
    "\n",
    "\n",
    "### Communication Exercise\n",
    "\n",
    "Data Scientistとして誰に何を聞いたほうが良いでしょうか?\n",
    "\n",
    "* Product Manager\n",
    "* Business Analyst\n",
    "* Data Analyst\n",
    "* Architect \n",
    "* DevOps Engineer\n",
    "* Software Engineer\n",
    "* Operator\n",
    "* System Admin\n",
    "* IT Auditor\n",
    "* Data architect\n",
    "* Domain Expert"
   ]
  },
  {
   "cell_type": "code",
   "execution_count": null,
   "id": "c3e7328b-f2f2-4236-8a81-8d608ae45f61",
   "metadata": {},
   "outputs": [],
   "source": []
  }
 ],
 "metadata": {
  "kernelspec": {
   "display_name": "default:Python",
   "language": "python",
   "name": "conda-env-default-py"
  },
  "language_info": {
   "codemirror_mode": {
    "name": "ipython",
    "version": 3
   },
   "file_extension": ".py",
   "mimetype": "text/x-python",
   "name": "python",
   "nbconvert_exporter": "python",
   "pygments_lexer": "ipython3",
   "version": "3.9.7"
  },
  "toc-autonumbering": false,
  "toc-showcode": false,
  "toc-showmarkdowntxt": false
 },
 "nbformat": 4,
 "nbformat_minor": 5
}
